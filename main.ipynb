{
 "cells": [
  {
   "cell_type": "code",
   "execution_count": 1,
   "metadata": {},
   "outputs": [],
   "source": [
    "pathsTreino = {\n",
    "    \"camera1\": [\"CNR-EXT-Patches-150x150/PATCHES\", \"splits/CNRPark-EXT/camera1.txt\"],\n",
    "    \"camera3\": [\"CNR-EXT-Patches-150x150/PATCHES\", \"splits/CNRPark-EXT/camera3.txt\"],\n",
    "    \"camera5\": [\"CNR-EXT-Patches-150x150/PATCHES\", \"splits/CNRPark-EXT/camera5.txt\"],\n",
    "    \"camera7\": [\"CNR-EXT-Patches-150x150/PATCHES\", \"splits/CNRPark-EXT/camera7.txt\"],\n",
    "    \"camera9\": [\"CNR-EXT-Patches-150x150/PATCHES\", \"splits/CNRPark-EXT/camera9.txt\"],\n",
    "    \"UFPR04\": [\"PKLot/PKLot/PKLotSegmented/\", \"splits/PKLot/UFPR04.txt\"],\n",
    "    \"UFPR05\": [\"PKLot/PKLot/PKLotSegmented/\", \"splits/PKLot/UFPR05.txt\"],\n",
    "    \"A\": [\"CNRPark-Patches-150x150/\", \"splits/CNRParkAB/A.txt\"]\n",
    "}\n",
    "pathsTeste = {\n",
    "    \"camera2\": [\"CNR-EXT-Patches-150x150/PATCHES\", \"splits/CNRPark-EXT/camera2.txt\"],\n",
    "    \"camera4\": [\"CNR-EXT-Patches-150x150/PATCHES\", \"splits/CNRPark-EXT/camera4.txt\"],\n",
    "    \"camera6\": [\"CNR-EXT-Patches-150x150/PATCHES\", \"splits/CNRPark-EXT/camera6.txt\"],\n",
    "    \"camera8\": [\"CNR-EXT-Patches-150x150/PATCHES\", \"splits/CNRPark-EXT/camera8.txt\"],\n",
    "    \"PUC\": [\"PKLot/PKLot/PKLotSegmented/\", \"splits/PKLot/PUC.txt\"],\n",
    "    \"B\": [\"CNRPark-Patches-150x150/\", \"splits/CNRParkAB/B.txt\"]\n",
    "}"
   ]
  },
  {
   "cell_type": "code",
   "execution_count": 2,
   "metadata": {},
   "outputs": [],
   "source": [
    "import os   \n",
    "import cv2\n",
    "import torch\n",
    "import random\n",
    "import argparse\n",
    "import xmltodict\n",
    "import torchvision\n",
    "import numpy as np\n",
    "import pandas as pd\n",
    "from PIL import Image\n",
    "import torch.nn as nn\n",
    "import torch.optim as optim\n",
    "import matplotlib.pyplot as plt\n",
    "from torchvision import transforms\n",
    "from torch.utils.data import DataLoader\n",
    "from sklearn.metrics import roc_auc_score\n",
    "\n",
    "def collate_fn(batch):\n",
    "    batch = list(filter(lambda x: x is not None, batch))\n",
    "    return torch.utils.data.dataloader.default_collate(batch)\n",
    "\n",
    "class Data:\n",
    "    def __init__(self, img_path, target_path, transforms = None, sample = 1):\n",
    "        with open(target_path, 'r') as f:\n",
    "            lines = f.readlines()\n",
    "            rand_list = random.sample(range(0, len(lines)), int(sample * len(lines)))\n",
    "            self.img_list = [os.path.join(img_path, i.split()[0]) for i in lines]\n",
    "            self.img_list = [self.img_list[a] for a in rand_list]\n",
    "            self.label_list = [i.split()[1] for i in lines]\n",
    "            self.label_list = [self.label_list[a] for a in rand_list]\n",
    "\n",
    "            self.transforms = transforms\n",
    "    \n",
    "    def __getitem__(self, index):\n",
    "        try:\n",
    "            img_path = self.img_list[index]\n",
    "            img = Image.open(img_path)\n",
    "            img = self.transforms(img)\n",
    "            label = self.label_list[index]\n",
    "        except:\n",
    "            return None\n",
    "        return img, label\n",
    "    \n",
    "    def __len__(self):\n",
    "        return len(self.label_list)\n",
    "    \n",
    "    def __add__(self, other):\n",
    "        self.img_list = self.img_list + other.img_list\n",
    "        rand_list = random.sample(range(0, len(self.img_list)), len(self.img_list))\n",
    "        self.label_list = self.label_list + other.label_list\n",
    "        self.img_list = [self.img_list[a] for a in rand_list]\n",
    "        self.label_list = [self.label_list[a] for a in rand_list]\n"
   ]
  },
  {
   "cell_type": "code",
   "execution_count": 3,
   "metadata": {},
   "outputs": [],
   "source": [
    "from matplotlib.colors import Normalize"
   ]
  },
  {
   "cell_type": "code",
   "execution_count": 4,
   "metadata": {},
   "outputs": [],
   "source": [
    "def imshow(train_loader):\n",
    "    dataiter = iter(train_loader)\n",
    "    images, labels = dataiter.next()\n",
    "    img = torchvision.utils.make_grid(images)\n",
    "    npimg = img.numpy()\n",
    "    plt.imshow(np.transpose(npimg, (1, 2, 0)) * 0.5 + 0.5)\n",
    "    plt.show()"
   ]
  },
  {
   "cell_type": "code",
   "execution_count": 5,
   "metadata": {},
   "outputs": [],
   "source": [
    "class AlexNet(nn.Module):\n",
    "  def __init__(self, num_classes=2, init_weights=False):\n",
    "    super().__init__()\n",
    "    self.features = nn.Sequential(\n",
    "        nn.Conv2d(3, 48, 11, 4, 2), \n",
    "        nn.ReLU(inplace=True),\n",
    "        nn.MaxPool2d(3, 2), \n",
    "        nn.Conv2d(48, 128, kernel_size=5, padding=2), \n",
    "        nn.ReLU(inplace=True),\n",
    "        nn.MaxPool2d(kernel_size=3, stride=2),        \n",
    "        nn.Conv2d(128, 192, kernel_size=3, padding=1),\n",
    "        nn.ReLU(inplace=True),\n",
    "        nn.Conv2d(192, 192, kernel_size=3, padding=1),\n",
    "        nn.ReLU(inplace=True),\n",
    "        nn.Conv2d(192, 128, kernel_size=3, padding=1),\n",
    "        nn.ReLU(inplace=True),\n",
    "        nn.MaxPool2d(kernel_size=3, stride=2),\n",
    "    )\n",
    "    self.classifier = nn.Sequential(\n",
    "      nn.Dropout(p=0.5),\n",
    "      nn.Linear(128 * 6 * 6, 2048),\n",
    "      nn.ReLU(inplace=True),\n",
    "      nn.Dropout(p=0.5),\n",
    "      nn.Linear(2048, 2048),\n",
    "      nn.ReLU(inplace=True),\n",
    "      nn.Linear(2048, num_classes),\n",
    "    )\n",
    "    if init_weights:\n",
    "      self._initialize_weights()\n",
    "  def forward(self, x):\n",
    "      x = self.features(x)\n",
    "      x = x.view(x.size(0), -1)\n",
    "      return self.classifier(x)\n",
    "\n",
    "  def _initialize_weights(self):\n",
    "      for m in self.modules():\n",
    "          if isinstance(m, nn.Conv2d):\n",
    "              nn.init.kaiming_normal_(m.weight, mode='fan_out', nonlinearity='relu')\n",
    "              if m.bias is not None:\n",
    "                  nn.init.constant_(m.bias, 0)\n",
    "          elif isinstance(m, nn.Linear):\n",
    "              nn.init.normal_(m.weight, 0, 0.01)\n",
    "              nn.init.constant_(m.bias, 0) \n",
    "\n",
    "\n",
    "class mAlexNet(nn.Module):\n",
    "    def __init__(self, num_classes=2):\n",
    "        super().__init__()\n",
    "        self.input_channel = 3\n",
    "        self.num_output = num_classes\n",
    "        self.layer1 = nn.Sequential(\n",
    "            nn.Conv2d(in_channels=self.input_channel, out_channels= 16, kernel_size= 11, stride= 4),\n",
    "            nn.ReLU(inplace=True),\n",
    "            nn.LocalResponseNorm(size = 5),\n",
    "            nn.MaxPool2d(kernel_size=3, stride=2)\n",
    "        )\n",
    "        self.layer2 = nn.Sequential(\n",
    "            nn.Conv2d(in_channels= 16, out_channels= 20, kernel_size= 5, stride= 1),\n",
    "            nn.ReLU(inplace=True),\n",
    "            nn.LocalResponseNorm(size = 5),\n",
    "            nn.MaxPool2d(kernel_size=3, stride=2)\n",
    "        )\n",
    "        self.layer3 = nn.Sequential(\n",
    "            nn.Conv2d(in_channels= 20, out_channels= 30, kernel_size= 3, stride= 1),\n",
    "            nn.ReLU(inplace=True),\n",
    "            nn.MaxPool2d(kernel_size=3, stride=2)\n",
    "        )\n",
    "        self.layer4 = nn.Sequential(\n",
    "            nn.Linear(30*3*3, out_features=48),\n",
    "            nn.ReLU(inplace=True)\n",
    "        )\n",
    "        self.layer5 = nn.Sequential(\n",
    "            nn.Linear(in_features=48, out_features=2)\n",
    "        )\n",
    "\n",
    "    def forward(self, x):\n",
    "        x = self.layer3(self.layer2(self.layer1(x)))\n",
    "        x = x.view(x.size(0), -1)\n",
    "        x = self.layer5(self.layer4(x))\n",
    "        m = nn.Softmax(dim=1)\n",
    "        return m(x)"
   ]
  },
  {
   "cell_type": "code",
   "execution_count": 6,
   "metadata": {},
   "outputs": [],
   "source": [
    "def train(epoch, train_dataset, net, criterion, device):\n",
    "    train_loader = DataLoader(train_dataset, batch_size=64, \\\n",
    "            shuffle=True, num_workers=0,drop_last=False, collate_fn=collate_fn)\n",
    "    epochLoss = []\n",
    "    print(\"Number of batches to train: \", str(len(train_loader)))\n",
    "    for ep in range(epoch):  \n",
    "        if ep >= 12:\n",
    "            learning_rate = 0.0025\n",
    "        elif ep >= 6:\n",
    "            learning_rate = 0.005\n",
    "        else:\n",
    "            learning_rate = 0.01\n",
    "        running_loss = 0.0\n",
    "        print(\"Epoch {}.\".format(ep+1))\n",
    "        for i, data in enumerate(train_loader,1):\n",
    "            inputs, labels = data\n",
    "            labels = list(map(int, labels))\n",
    "            labels = torch.Tensor(labels)\n",
    "            inputs = inputs.to(device)\n",
    "            labels = labels.to(device)\n",
    "\n",
    "            optimizer = optim.SGD(net.parameters(), lr=learning_rate, momentum=0.9, weight_decay=0.0005)\n",
    "            optimizer.zero_grad()\n",
    "            outputs = net(inputs)\n",
    "\n",
    "            loss = criterion(outputs, labels.long())\n",
    "            loss.backward()\n",
    "            optimizer.step()\n",
    "            running_loss += loss.item()\n",
    "            print(\"Epoch {}.\\tBatch {}.\\tLoss = {:.3f}.\".format(ep+1, i+1, running_loss))\n",
    "            if i % len(train_loader) == len(train_loader) - 1:    \n",
    "                print('[%d, %5d] loss: %.3f' %\n",
    "                    (epoch + 1, i + 1, running_loss / len(train_loader)))\n",
    "                epochLoss.append(running_loss / len(train_loader))\n",
    "                running_loss = 0.0\n",
    "\n",
    "    print('Finished Training.')\n",
    "    return epochLoss\n"
   ]
  },
  {
   "cell_type": "code",
   "execution_count": 7,
   "metadata": {},
   "outputs": [],
   "source": [
    "def test(test_dataset, net, device):\n",
    "    print(\"\\nTesting starts now...\")\n",
    "    test_loader = DataLoader(test_dataset, batch_size=64, shuffle=True, \\\n",
    "                            num_workers=0, collate_fn=collate_fn)\n",
    "    correct = 0\n",
    "    total = 0\n",
    "    item = 1\n",
    "    y_true = []\n",
    "    y_pred = []\n",
    "    print(\"Number of batches to test: \", str(len(test_loader)))\n",
    "    with torch.no_grad():\n",
    "        for i, data in enumerate(test_loader):\n",
    "            images, labels = data\n",
    "            if i % 10 == 0:\n",
    "                print(\"Testing on batch {}\".format(item))\n",
    "            labels = list(map(int, labels))\n",
    "            labels = torch.Tensor(labels)\n",
    "            images = images.to(device)\n",
    "            labels = labels.to(device)\n",
    "            y_pred.append(labels)\n",
    "            outputs = net(images)\n",
    "            _, predicted = torch.max(outputs.data, 1)\n",
    "            y_true.append(predicted)\n",
    "            total += labels.size(0)\n",
    "            correct += (predicted == labels).sum().item()\n",
    "            item += 1\n",
    "    return (correct/total), roc_auc_score(torch.cat(y_pred), torch.cat(y_true))\n"
   ]
  },
  {
   "cell_type": "code",
   "execution_count": 8,
   "metadata": {},
   "outputs": [],
   "source": [
    "device = torch.device(\"cpu\")\n",
    "transform = transforms.Compose([\n",
    "    transforms.Resize(256),\n",
    "    transforms.RandomResizedCrop(224),\n",
    "    transforms.ToTensor(),  # normalize to [0, 1]\n",
    "    transforms.Normalize((0.5, 0.5, 0.5), (0.5, 0.5, 0.5))\n",
    "]) "
   ]
  },
  {
   "cell_type": "code",
   "execution_count": 9,
   "metadata": {},
   "outputs": [],
   "source": [
    "for i, key in enumerate(pathsTreino, 1):\n",
    "    if i == 1:\n",
    "        trainDataset = Data(pathsTreino[key][0], pathsTreino[key][1], transform, sample = 0.1)\n",
    "    else:\n",
    "        trainDataset + Data(pathsTreino[key][0], pathsTreino[key][1], transform, sample = 0.1)"
   ]
  },
  {
   "cell_type": "code",
   "execution_count": 10,
   "metadata": {},
   "outputs": [],
   "source": [
    "testDatasets = []\n",
    "for key in pathsTeste:\n",
    "    testDatasets.append(Data(pathsTeste[key][0], pathsTeste[key][1], transform, sample = 0.1))"
   ]
  },
  {
   "cell_type": "markdown",
   "metadata": {},
   "source": [
    "### Treinamento do modelo"
   ]
  },
  {
   "cell_type": "code",
   "execution_count": 11,
   "metadata": {},
   "outputs": [
    {
     "data": {
      "image/png": "[encoded data removed]",
      "text/plain": [
       "<Figure size 432x288 with 1 Axes>"
      ]
     },
     "metadata": {
      "needs_background": "light"
     },
     "output_type": "display_data"
    }
   ],
   "source": [
    "train_loader = DataLoader(trainDataset, batch_size=64, shuffle=True, drop_last=False)\n",
    "imshow(train_loader)"
   ]
  },
  {
   "cell_type": "code",
   "execution_count": 12,
   "metadata": {},
   "outputs": [],
   "source": [
    "net = mAlexNet().to(device)\n",
    "criterion = nn.CrossEntropyLoss()"
   ]
  },
  {
   "cell_type": "code",
   "execution_count": 13,
   "metadata": {},
   "outputs": [],
   "source": [
    "RETRAIN = False"
   ]
  },
  {
   "cell_type": "code",
   "execution_count": 14,
   "metadata": {},
   "outputs": [],
   "source": [
    "if RETRAIN:\n",
    "    loss = train(18, trainDataset, net, criterion, device)\n",
    "    PATH = 'models/trainDistribution.pth'\n",
    "    torch.save(net.state_dict(), PATH)\n",
    "    net.load_state_dict(torch.load(PATH))\n",
    "else:\n",
    "    PATH = 'models/trainDistribution.pth'\n",
    "    net.load_state_dict(torch.load(PATH))"
   ]
  },
  {
   "cell_type": "code",
   "execution_count": 19,
   "metadata": {},
   "outputs": [
    {
     "data": {
      "text/plain": [
       "[<matplotlib.lines.Line2D at 0x116e0b39160>]"
      ]
     },
     "execution_count": 19,
     "metadata": {},
     "output_type": "execute_result"
    },
    {
     "data": {
      "image/png": "[encoded data removed]",
      "text/plain": [
       "<Figure size 432x288 with 1 Axes>"
      ]
     },
     "metadata": {
      "needs_background": "light"
     },
     "output_type": "display_data"
    }
   ],
   "source": [
    "plt.title(\"Training Loss\")\n",
    "plt.xlabel(\"Epochs\")\n",
    "plt.ylabel(\"Loss\")\n",
    "plt.plot(loss)"
   ]
  },
  {
   "cell_type": "code",
   "execution_count": 20,
   "metadata": {},
   "outputs": [],
   "source": [
    "with open(\"losses/trainLossTrainDistribution.txt\", \"w\") as file:\n",
    "    file.write(str(loss))"
   ]
  },
  {
   "cell_type": "code",
   "execution_count": 15,
   "metadata": {},
   "outputs": [],
   "source": [
    "results = pd.DataFrame()"
   ]
  },
  {
   "cell_type": "code",
   "execution_count": 16,
   "metadata": {},
   "outputs": [
    {
     "name": "stdout",
     "output_type": "stream",
     "text": [
      "\n",
      "Testing starts now...\n",
      "Number of batches to test:  7\n",
      "Testing on batch 1\n",
      "\n",
      "The accuracy of testing on 'camera2' is 0.883.\n",
      "\n",
      "Testing starts now...\n",
      "Number of batches to test:  26\n",
      "Testing on batch 1\n",
      "Testing on batch 11\n",
      "Testing on batch 21\n",
      "\n",
      "The accuracy of testing on 'camera4' is 0.900.\n",
      "\n",
      "Testing starts now...\n",
      "Number of batches to test:  32\n",
      "Testing on batch 1\n",
      "Testing on batch 11\n",
      "Testing on batch 21\n",
      "Testing on batch 31\n",
      "\n",
      "The accuracy of testing on 'camera6' is 0.913.\n",
      "\n",
      "Testing starts now...\n",
      "Number of batches to test:  38\n",
      "Testing on batch 1\n",
      "Testing on batch 11\n",
      "Testing on batch 21\n",
      "Testing on batch 31\n",
      "\n",
      "The accuracy of testing on 'camera8' is 0.902.\n",
      "\n",
      "Testing starts now...\n",
      "Number of batches to test:  663\n",
      "Testing on batch 1\n",
      "Testing on batch 11\n",
      "Testing on batch 21\n",
      "Testing on batch 31\n",
      "Testing on batch 41\n",
      "Testing on batch 51\n",
      "Testing on batch 61\n",
      "Testing on batch 71\n",
      "Testing on batch 81\n",
      "Testing on batch 91\n",
      "Testing on batch 101\n",
      "Testing on batch 111\n",
      "Testing on batch 121\n",
      "Testing on batch 131\n",
      "Testing on batch 141\n",
      "Testing on batch 151\n",
      "Testing on batch 161\n",
      "Testing on batch 171\n",
      "Testing on batch 181\n",
      "Testing on batch 191\n",
      "Testing on batch 201\n",
      "Testing on batch 211\n",
      "Testing on batch 221\n",
      "Testing on batch 231\n",
      "Testing on batch 241\n",
      "Testing on batch 251\n",
      "Testing on batch 261\n",
      "Testing on batch 271\n",
      "Testing on batch 281\n",
      "Testing on batch 291\n",
      "Testing on batch 301\n",
      "Testing on batch 311\n",
      "Testing on batch 321\n",
      "Testing on batch 331\n",
      "Testing on batch 341\n",
      "Testing on batch 351\n",
      "Testing on batch 361\n",
      "Testing on batch 371\n",
      "Testing on batch 381\n",
      "Testing on batch 391\n",
      "Testing on batch 401\n",
      "Testing on batch 411\n",
      "Testing on batch 421\n",
      "Testing on batch 431\n",
      "Testing on batch 441\n",
      "Testing on batch 451\n",
      "Testing on batch 461\n",
      "Testing on batch 471\n",
      "Testing on batch 481\n",
      "Testing on batch 491\n",
      "Testing on batch 501\n",
      "Testing on batch 511\n",
      "Testing on batch 521\n",
      "Testing on batch 531\n",
      "Testing on batch 541\n",
      "Testing on batch 551\n",
      "Testing on batch 561\n",
      "Testing on batch 571\n",
      "Testing on batch 581\n",
      "Testing on batch 591\n",
      "Testing on batch 601\n",
      "Testing on batch 611\n",
      "Testing on batch 621\n",
      "Testing on batch 631\n",
      "Testing on batch 641\n",
      "Testing on batch 651\n",
      "Testing on batch 661\n",
      "\n",
      "The accuracy of testing on 'PUC' is 0.936.\n",
      "\n",
      "Testing starts now...\n",
      "Number of batches to test:  11\n",
      "Testing on batch 1\n",
      "Testing on batch 11\n",
      "\n",
      "The accuracy of testing on 'B' is 0.782.\n"
     ]
    }
   ],
   "source": [
    "for i, key in enumerate(pathsTeste):\n",
    "    accuracy, auc = test(testDatasets[i], net, device)\n",
    "    print(\"\\nThe accuracy of testing on '{}' is {:.3f}.\".format(key, accuracy))\n",
    "    results = pd.concat([results, pd.DataFrame({\n",
    "                                            \"Dataset\": [key],\n",
    "                                            \"Accuracy\": [accuracy],\n",
    "                                            \"Auc\": [auc],\n",
    "                                            \"Sample\": [0.1]})])"
   ]
  },
  {
   "cell_type": "code",
   "execution_count": 17,
   "metadata": {},
   "outputs": [
    {
     "data": {
      "text/html": [
       "<div>\n",
       "<style scoped>\n",
       "    .dataframe tbody tr th:only-of-type {\n",
       "        vertical-align: middle;\n",
       "    }\n",
       "\n",
       "    .dataframe tbody tr th {\n",
       "        vertical-align: top;\n",
       "    }\n",
       "\n",
       "    .dataframe thead th {\n",
       "        text-align: right;\n",
       "    }\n",
       "</style>\n",
       "<table border=\"1\" class=\"dataframe\">\n",
       "  <thead>\n",
       "    <tr style=\"text-align: right;\">\n",
       "      <th></th>\n",
       "      <th>Dataset</th>\n",
       "      <th>Accuracy</th>\n",
       "      <th>Auc</th>\n",
       "      <th>Sample</th>\n",
       "    </tr>\n",
       "  </thead>\n",
       "  <tbody>\n",
       "    <tr>\n",
       "      <th>0</th>\n",
       "      <td>camera2</td>\n",
       "      <td>0.882641</td>\n",
       "      <td>0.894159</td>\n",
       "      <td>0.1</td>\n",
       "    </tr>\n",
       "    <tr>\n",
       "      <th>0</th>\n",
       "      <td>camera4</td>\n",
       "      <td>0.900422</td>\n",
       "      <td>0.908138</td>\n",
       "      <td>0.1</td>\n",
       "    </tr>\n",
       "    <tr>\n",
       "      <th>0</th>\n",
       "      <td>camera6</td>\n",
       "      <td>0.912935</td>\n",
       "      <td>0.913619</td>\n",
       "      <td>0.1</td>\n",
       "    </tr>\n",
       "    <tr>\n",
       "      <th>0</th>\n",
       "      <td>camera8</td>\n",
       "      <td>0.901912</td>\n",
       "      <td>0.903673</td>\n",
       "      <td>0.1</td>\n",
       "    </tr>\n",
       "    <tr>\n",
       "      <th>0</th>\n",
       "      <td>PUC</td>\n",
       "      <td>0.935838</td>\n",
       "      <td>0.938830</td>\n",
       "      <td>0.1</td>\n",
       "    </tr>\n",
       "    <tr>\n",
       "      <th>0</th>\n",
       "      <td>B</td>\n",
       "      <td>0.781591</td>\n",
       "      <td>0.789445</td>\n",
       "      <td>0.1</td>\n",
       "    </tr>\n",
       "  </tbody>\n",
       "</table>\n",
       "</div>"
      ],
      "text/plain": [
       "   Dataset  Accuracy       Auc  Sample\n",
       "0  camera2  0.882641  0.894159     0.1\n",
       "0  camera4  0.900422  0.908138     0.1\n",
       "0  camera6  0.912935  0.913619     0.1\n",
       "0  camera8  0.901912  0.903673     0.1\n",
       "0      PUC  0.935838  0.938830     0.1\n",
       "0        B  0.781591  0.789445     0.1"
      ]
     },
     "execution_count": 17,
     "metadata": {},
     "output_type": "execute_result"
    }
   ],
   "source": [
    "results"
   ]
  },
  {
   "cell_type": "code",
   "execution_count": 18,
   "metadata": {},
   "outputs": [],
   "source": [
    "results.to_csv(\"results/trainDistributionResults.csv\")"
   ]
  },
  {
   "cell_type": "markdown",
   "metadata": {},
   "source": [
    "### Custom Image Inference"
   ]
  },
  {
   "cell_type": "code",
   "execution_count": 67,
   "metadata": {},
   "outputs": [],
   "source": [
    "listi = []\n",
    "names = []\n",
    "for root, dirs, files in os.walk(\"PKLot/PKLot/PKLotSegmented/UFPR05/Sunny/2013-02-22\"):\n",
    "  for fil in files:\n",
    "    if '2013-02-22_06_05_00' in fil:\n",
    "      names.append(fil)\n",
    "      if 'Empty' in root:\n",
    "        listi.append((transform(Image.open(root + '/' + fil)), '0'))\n",
    "      else:\n",
    "        listi.append((transform(Image.open(root + '/' + fil)), '1'))\n",
    "        \n",
    "dl = DataLoader(listi, batch_size=1, shuffle=True, drop_last=False)"
   ]
  },
  {
   "cell_type": "code",
   "execution_count": 68,
   "metadata": {},
   "outputs": [],
   "source": [
    "correct = 0\n",
    "total = 0\n",
    "item = 1\n",
    "for a in dl:\n",
    "  images, labels = a\n",
    "  labels = list(map(int, labels))\n",
    "  labels = torch.Tensor(labels)\n",
    "  images = images.to(device)\n",
    "  labels = labels.to(device)\n",
    "\n",
    "  outputs = net(images)\n",
    "  _, predicted = torch.max(outputs.data, 1)\n",
    "  total += labels.size(0)\n",
    "  correct += (predicted == labels).sum().item()\n",
    "  item += 1\n",
    "  listi[i] = (listi[i][0], int(predicted))"
   ]
  },
  {
   "cell_type": "code",
   "execution_count": 76,
   "metadata": {},
   "outputs": [
    {
     "name": "stdout",
     "output_type": "stream",
     "text": [
      "('0',),('0',),tensor([0]),('0',),('0',),('0',),('0',),('0',),('0',),('0',),('0',),('0',),('0',),('1',),('0',),('0',),('0',),('0',),('0',),('0',),('0',),('0',),('0',),('0',),('0',),('0',),('0',),('0',),('0',),('0',),('0',),('0',),('0',),('0',),('0',),('0',),('0',),('0',),('0',),('0',),"
     ]
    }
   ],
   "source": [
    "for a in dl:\n",
    "  images, labels = a\n",
    "  print(labels, end=\",\")"
   ]
  },
  {
   "cell_type": "code",
   "execution_count": 69,
   "metadata": {},
   "outputs": [
    {
     "name": "stdout",
     "output_type": "stream",
     "text": [
      "\n",
      "The accuracy of training on 'splits/CNRParkAB/even' and testing on 'splits/CNRParkAB/odd' is 0.725.\n"
     ]
    }
   ],
   "source": [
    "accuracy = correct/total\n",
    "print(\"\\nThe accuracy of training on '{}' and testing on '{}' is {:.3f}.\".format((\"splits/CNRParkAB/even.txt\").split('.')[0], (\"splits/CNRParkAB/odd.txt\").split('.')[0], accuracy))"
   ]
  },
  {
   "cell_type": "code",
   "execution_count": 70,
   "metadata": {},
   "outputs": [],
   "source": [
    "with open('PKLot/PKLot/PKLot/UFPR05/Sunny/2013-02-22/2013-02-22_06_05_00.xml') as f:\n",
    "  content=f.read()\n",
    "  d = xmltodict.parse(content)\n",
    "  coord = []\n",
    "  for fil in names:\n",
    "    coo = d['parking']['space'][int(fil[-7:-4])-1]['contour']['point']\n",
    "    coord.append([[int(x['@x']), int(x['@y'])] for x in coo])"
   ]
  },
  {
   "cell_type": "code",
   "execution_count": 72,
   "metadata": {},
   "outputs": [],
   "source": [
    "img = cv2.imread(\"PKLot/PKLot/PKLot/UFPR05/Sunny/2013-02-22/2013-02-22_06_05_00.jpg\")\n",
    "\n",
    "for i, co in enumerate(coord):\n",
    "  pts = np.array(co, np.int32)\n",
    "  pts = pts.reshape((-1,1,2))\n",
    "  if listi[i][1] == 0:\n",
    "    c = (0,255,255)\n",
    "  else:\n",
    "    c = (255, 0, 0)\n",
    "  cv2.polylines(img,[pts],True,c, 2)\n",
    "\n",
    "while(1):\n",
    "     \n",
    "    cv2.imshow('image', img)\n",
    "    if cv2.waitKey(20) & 0xFF == 27:\n",
    "        break\n",
    "cv2.destroyAllWindows()"
   ]
  }
 ],
 "metadata": {
  "kernelspec": {
   "display_name": "Python 3.9.12 ('base')",
   "language": "python",
   "name": "python3"
  },
  "language_info": {
   "codemirror_mode": {
    "name": "ipython",
    "version": 3
   },
   "file_extension": ".py",
   "mimetype": "text/x-python",
   "name": "python",
   "nbconvert_exporter": "python",
   "pygments_lexer": "ipython3",
   "version": "3.9.12"
  },
  "orig_nbformat": 4,
  "vscode": {
   "interpreter": {
    "hash": "dcd16d7b13e5ce7d17a14bd97745a1fbf6a910d77ba6344440a7724639e530a0"
   }
  }
 },
 "nbformat": 4,
 "nbformat_minor": 2
}
