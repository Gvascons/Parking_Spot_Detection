{
 "cells": [
  {
   "cell_type": "code",
   "execution_count": 2,
   "metadata": {},
   "outputs": [],
   "source": [
    "RETRAIN = False"
   ]
  },
  {
   "cell_type": "code",
   "execution_count": 3,
   "metadata": {},
   "outputs": [
    {
     "name": "stdout",
     "output_type": "stream",
     "text": [
      "Requirement already satisfied: xmltodict in c:\\users\\godzilla\\anaconda3\\lib\\site-packages (0.13.0)\n"
     ]
    },
    {
     "name": "stderr",
     "output_type": "stream",
     "text": [
      "WARNING: Ignoring invalid distribution -ffi (c:\\users\\godzilla\\anaconda3\\lib\\site-packages)\n",
      "WARNING: Ignoring invalid distribution -ffi (c:\\users\\godzilla\\anaconda3\\lib\\site-packages)\n",
      "WARNING: Ignoring invalid distribution -ffi (c:\\users\\godzilla\\anaconda3\\lib\\site-packages)\n",
      "WARNING: Ignoring invalid distribution -ffi (c:\\users\\godzilla\\anaconda3\\lib\\site-packages)\n",
      "WARNING: Ignoring invalid distribution -ffi (c:\\users\\godzilla\\anaconda3\\lib\\site-packages)\n",
      "WARNING: Ignoring invalid distribution -ffi (c:\\users\\godzilla\\anaconda3\\lib\\site-packages)\n"
     ]
    }
   ],
   "source": [
    "!pip install xmltodict"
   ]
  },
  {
   "cell_type": "code",
   "execution_count": 5,
   "metadata": {},
   "outputs": [],
   "source": [
    "import os   \n",
    "import cv2\n",
    "import torch\n",
    "import argparse\n",
    "import xmltodict\n",
    "import torchvision\n",
    "import numpy as np\n",
    "from PIL import Image\n",
    "import torch.nn as nn\n",
    "import torch.optim as optim\n",
    "import matplotlib.pyplot as plt\n",
    "from torchvision import transforms\n",
    "from torch.utils.data import DataLoader\n",
    "\n",
    "def collate_fn(batch):\n",
    "    batch = list(filter(lambda x: x is not None, batch))\n",
    "    return torch.utils.data.dataloader.default_collate(batch)\n",
    "\n",
    "class Data:\n",
    "    def __init__(self, img_path, target_path, transforms = None):\n",
    "        with open(target_path, 'r') as f:\n",
    "            lines = f.readlines()\n",
    "            self.img_list = [os.path.join(img_path, i.split()[0]) for i in lines]\n",
    "            self.label_list = [i.split()[1] for i in lines]\n",
    "            self.transforms = transforms\n",
    "    \n",
    "    def __getitem__(self, index):\n",
    "        try:\n",
    "            img_path = self.img_list[index]\n",
    "            img = Image.open(img_path)\n",
    "            img = self.transforms(img)\n",
    "            label = self.label_list[index]\n",
    "        except:\n",
    "            return None\n",
    "        return img, label\n",
    "    \n",
    "    def __len__(self):\n",
    "        return len(self.label_list)"
   ]
  },
  {
   "cell_type": "code",
   "execution_count": 6,
   "metadata": {},
   "outputs": [],
   "source": [
    "def imshow(train_loader):\n",
    "    dataiter = iter(train_loader)\n",
    "    images, labels = dataiter.next()\n",
    "    img = torchvision.utils.make_grid(images)\n",
    "    npimg = img.numpy()\n",
    "    plt.imshow(np.transpose(npimg, (1, 2, 0)))\n",
    "    plt.show()"
   ]
  },
  {
   "cell_type": "code",
   "execution_count": 7,
   "metadata": {},
   "outputs": [],
   "source": [
    "class AlexNet(nn.Module):\n",
    "  def __init__(self, num_classes=2, init_weights=False):\n",
    "    super().__init__()\n",
    "    self.features = nn.Sequential(\n",
    "        nn.Conv2d(3, 48, 11, 4, 2), \n",
    "        nn.ReLU(inplace=True),\n",
    "        nn.MaxPool2d(3, 2), \n",
    "        nn.Conv2d(48, 128, kernel_size=5, padding=2), \n",
    "        nn.ReLU(inplace=True),\n",
    "        nn.MaxPool2d(kernel_size=3, stride=2),        \n",
    "        nn.Conv2d(128, 192, kernel_size=3, padding=1),\n",
    "        nn.ReLU(inplace=True),\n",
    "        nn.Conv2d(192, 192, kernel_size=3, padding=1),\n",
    "        nn.ReLU(inplace=True),\n",
    "        nn.Conv2d(192, 128, kernel_size=3, padding=1),\n",
    "        nn.ReLU(inplace=True),\n",
    "        nn.MaxPool2d(kernel_size=3, stride=2),\n",
    "    )\n",
    "    self.classifier = nn.Sequential(\n",
    "      nn.Dropout(p=0.5),\n",
    "      nn.Linear(128 * 6 * 6, 2048),\n",
    "      nn.ReLU(inplace=True),\n",
    "      nn.Dropout(p=0.5),\n",
    "      nn.Linear(2048, 2048),\n",
    "      nn.ReLU(inplace=True),\n",
    "      nn.Linear(2048, num_classes),\n",
    "    )\n",
    "    if init_weights:\n",
    "      self._initialize_weights()\n",
    "  def forward(self, x):\n",
    "      x = self.features(x)\n",
    "      x = x.view(x.size(0), -1)\n",
    "      return self.classifier(x)\n",
    "\n",
    "  def _initialize_weights(self):\n",
    "      for m in self.modules():\n",
    "          if isinstance(m, nn.Conv2d):\n",
    "              nn.init.kaiming_normal_(m.weight, mode='fan_out', nonlinearity='relu')\n",
    "              if m.bias is not None:\n",
    "                  nn.init.constant_(m.bias, 0)\n",
    "          elif isinstance(m, nn.Linear):\n",
    "              nn.init.normal_(m.weight, 0, 0.01)\n",
    "              nn.init.constant_(m.bias, 0) \n",
    "\n",
    "\n",
    "class mAlexNet(nn.Module):\n",
    "    def __init__(self, num_classes=2):\n",
    "        super().__init__()\n",
    "        self.input_channel = 3\n",
    "        self.num_output = num_classes\n",
    "        self.layer1 = nn.Sequential(\n",
    "            nn.Conv2d(in_channels=self.input_channel, out_channels= 16, kernel_size= 11, stride= 4),\n",
    "            nn.ReLU(inplace=True),\n",
    "            nn.MaxPool2d(kernel_size=3, stride=2)\n",
    "        )\n",
    "        self.layer2 = nn.Sequential(\n",
    "            nn.Conv2d(in_channels= 16, out_channels= 20, kernel_size= 5, stride= 1),\n",
    "            nn.ReLU(inplace=True),\n",
    "            nn.MaxPool2d(kernel_size=3, stride=2)\n",
    "        )\n",
    "        self.layer3 = nn.Sequential(\n",
    "            nn.Conv2d(in_channels= 20, out_channels= 30, kernel_size= 3, stride= 1),\n",
    "            nn.ReLU(inplace=True),\n",
    "            nn.MaxPool2d(kernel_size=3, stride=2)\n",
    "        )\n",
    "        self.layer4 = nn.Sequential(\n",
    "            nn.Linear(30*3*3, out_features=48),\n",
    "            nn.ReLU(inplace=True)\n",
    "        )\n",
    "        self.layer5 = nn.Sequential(\n",
    "            nn.Linear(in_features=48, out_features=2)\n",
    "        )\n",
    "\n",
    "    def forward(self, x):\n",
    "        x = self.layer3(self.layer2(self.layer1(x)))\n",
    "        x = x.view(x.size(0), -1)\n",
    "        x = self.layer5(self.layer4(x))\n",
    "        m = nn.Softmax(dim=1)\n",
    "        return m(x)"
   ]
  },
  {
   "cell_type": "code",
   "execution_count": 8,
   "metadata": {},
   "outputs": [],
   "source": [
    "def train(epoch, img_path, target_path, transform, net, criterion, device):\n",
    "    train_dataset = Data(img_path, target_path, transform)\n",
    "    train_loader = DataLoader(train_dataset, batch_size=64, \\\n",
    "            shuffle=True, num_workers=0,drop_last=False, collate_fn=collate_fn)\n",
    "    for ep in range(epoch):  \n",
    "        if ep >= 12:\n",
    "            learning_rate = 0.0025\n",
    "        elif ep >= 6:\n",
    "            learning_rate = 0.005\n",
    "        else:\n",
    "            learning_rate = 0.01\n",
    "        running_loss = 0.0\n",
    "        print(\"Epoch {}.\".format(ep+1))\n",
    "        for i, data in enumerate(train_loader,1):\n",
    "            inputs, labels = data\n",
    "            labels = list(map(int, labels))\n",
    "            labels = torch.Tensor(labels)\n",
    "            inputs = inputs.to(device)\n",
    "            labels = labels.to(device)\n",
    "\n",
    "            optimizer = optim.SGD(net.parameters(), lr=learning_rate, momentum=0.9, weight_decay=0.0005)\n",
    "            optimizer.zero_grad()\n",
    "            outputs = net(inputs)\n",
    "\n",
    "            loss = criterion(outputs, labels.long())\n",
    "            loss.backward()\n",
    "            optimizer.step()\n",
    "            running_loss += loss.item()\n",
    "            print(\"Epoch {}.\\tBatch {}.\\tLoss = {:.3f}.\".format(ep+1, i+1, running_loss))\n",
    "            if i % 2000 == 1999:    # 2000 mini-batches\n",
    "                print('[%d, %5d] loss: %.3f' %\n",
    "                    (epoch + 1, i + 1, running_loss / 2000))\n",
    "                running_loss = 0.0\n",
    "    print('Finished Training.')\n"
   ]
  },
  {
   "cell_type": "code",
   "execution_count": 9,
   "metadata": {},
   "outputs": [],
   "source": [
    "def test(img_path, target_path, transform, net, device):\n",
    "    print(\"\\nTesting starts now...\")\n",
    "    test_dataset = Data(img_path, target_path, transform)\n",
    "    test_loader = DataLoader(test_dataset, batch_size=2, shuffle=True, \\\n",
    "                            num_workers=0, collate_fn=collate_fn)\n",
    "    correct = 0\n",
    "    total = 0\n",
    "    item = 1\n",
    "    with torch.no_grad():\n",
    "        for data in test_loader:\n",
    "            images, labels = data\n",
    "            print(\"Testing on batch {}\".format(item))\n",
    "            labels = list(map(int, labels))\n",
    "            labels = torch.Tensor(labels)\n",
    "            images = images.to(device)\n",
    "            labels = labels.to(device)\n",
    "\n",
    "            outputs = net(images)\n",
    "            _, predicted = torch.max(outputs.data, 1)\n",
    "            total += labels.size(0)\n",
    "            correct += (predicted == labels).sum().item()\n",
    "            item += 1\n",
    "    return (correct/total)\n"
   ]
  },
  {
   "cell_type": "code",
   "execution_count": 10,
   "metadata": {},
   "outputs": [],
   "source": [
    "device = torch.device(\"cuda:0\" if torch.cuda.is_available() else \"cpu\")\n",
    "transform = transforms.Compose([\n",
    "    transforms.Resize(256),\n",
    "    transforms.RandomResizedCrop(224),\n",
    "    transforms.ToTensor(),  # normalize to [0, 1]\n",
    "    transforms.Normalize((0.5, 0.5, 0.5), (0.5, 0.5, 0.5))\n",
    "]) "
   ]
  },
  {
   "cell_type": "code",
   "execution_count": 11,
   "metadata": {},
   "outputs": [
    {
     "name": "stderr",
     "output_type": "stream",
     "text": [
      "Clipping input data to the valid range for imshow with RGB data ([0..1] for floats or [0..255] for integers).\n"
     ]
    },
    {
     "data": {
      "image/png": "[encoded data removed]",
      "text/plain": [
       "<Figure size 432x288 with 1 Axes>"
      ]
     },
     "metadata": {
      "needs_background": "light"
     },
     "output_type": "display_data"
    }
   ],
   "source": [
    "train_dataset = Data(\"CNRPark-Patches-150x150/\", \"splits/CNRParkAB/even.txt\", transform)\n",
    "train_loader = DataLoader(train_dataset, batch_size=64, shuffle=True, drop_last=False)\n",
    "imgs, labels = train_loader.__iter__().__next__()\n",
    "imshow(train_loader)"
   ]
  },
  {
   "cell_type": "code",
   "execution_count": 12,
   "metadata": {},
   "outputs": [],
   "source": [
    "net = mAlexNet().to(device)\n",
    "criterion = nn.CrossEntropyLoss()"
   ]
  },
  {
   "cell_type": "code",
   "execution_count": 13,
   "metadata": {},
   "outputs": [],
   "source": [
    "if RETRAIN:\n",
    "    train(18, \"CNRPark-Patches-150x150/\", \"splits/CNRParkAB/even.txt\", transform, net, criterion, device)\n",
    "    PATH = 'model.pth'\n",
    "    torch.save(net.state_dict(), PATH)\n",
    "    net.load_state_dict(torch.load(PATH))\n",
    "else:\n",
    "    PATH = './model.pth'\n",
    "    net.load_state_dict(torch.load(PATH))"
   ]
  },
  {
   "cell_type": "code",
   "execution_count": null,
   "metadata": {},
   "outputs": [],
   "source": [
    "accuracy = test(\"CNRPark-Patches-150x150/\", \"splits/CNRParkAB/odd.txt\", transform, net, device)\n",
    "print(\"\\nThe accuracy of training on '{}' and testing on '{}' is {:.3f}.\".format((\"splits/CNRParkAB/even.txt\").split('.')[0], (\"splits/CNRParkAB/odd.txt\").split('.')[0], accuracy))"
   ]
  },
  {
   "cell_type": "code",
   "execution_count": 29,
   "metadata": {},
   "outputs": [],
   "source": [
    "listi = []\n",
    "names = []\n",
    "for root, dirs, files in os.walk(\"PKLot/PKLot/PKLotSegmented/PUC/Cloudy/2012-09-12/\"):\n",
    "  for fil in files:\n",
    "    if '2012-09-12_08_00_11' in fil:\n",
    "      names.append(fil)\n",
    "      if 'Empty' in root:\n",
    "        listi.append((transform(Image.open(root + '/' + fil)), '0'))\n",
    "      else:\n",
    "        listi.append((transform(Image.open(root + '/' + fil)), '1'))\n",
    "        \n",
    "dl = DataLoader(listi, batch_size=1, shuffle=True, drop_last=False)"
   ]
  },
  {
   "cell_type": "code",
   "execution_count": 30,
   "metadata": {},
   "outputs": [],
   "source": [
    "preds = []\n",
    "correct = 0\n",
    "total = 0\n",
    "item = 1\n",
    "for a in dl:\n",
    "  images, labels = a\n",
    "  labels = list(map(int, labels))\n",
    "  labels = torch.Tensor(labels)\n",
    "  images = images.to(device)\n",
    "  labels = labels.to(device)\n",
    "\n",
    "  outputs = net(images)\n",
    "  _, predicted = torch.max(outputs.data, 1)\n",
    "  total += labels.size(0)\n",
    "  correct += (predicted == labels).sum().item()\n",
    "  item += 1\n",
    "  preds.append(predicted)"
   ]
  },
  {
   "cell_type": "code",
   "execution_count": 31,
   "metadata": {},
   "outputs": [
    {
     "name": "stdout",
     "output_type": "stream",
     "text": [
      "\n",
      "The accuracy of training on 'splits/CNRParkAB/even' and testing on 'splits/CNRParkAB/odd' is 0.900.\n"
     ]
    }
   ],
   "source": [
    "accuracy = correct/total\n",
    "print(\"\\nThe accuracy of training on '{}' and testing on '{}' is {:.3f}.\".format((\"splits/CNRParkAB/even.txt\").split('.')[0], (\"splits/CNRParkAB/odd.txt\").split('.')[0], accuracy))"
   ]
  },
  {
   "cell_type": "code",
   "execution_count": 21,
   "metadata": {},
   "outputs": [],
   "source": [
    "with open('PKLot/PKLot/PKLot/PUCPR/Cloudy/2012-09-12/2012-09-12_08_00_11.xml') as f:\n",
    "  content=f.read()\n",
    "  d = xmltodict.parse(content)\n",
    "  coord = []\n",
    "  for fil in names:\n",
    "    coo = d['parking']['space'][int(fil[-7:-4])-1]['contour']['point']\n",
    "    coord.append([[int(x['@x']), int(x['@y'])] for x in coo])"
   ]
  },
  {
   "cell_type": "code",
   "execution_count": 28,
   "metadata": {},
   "outputs": [],
   "source": [
    "img = cv2.imread(\"PKLot/PKLot/PKLot/PUCPR/Cloudy/2012-09-12/2012-09-12_08_00_11.jpg\")\n",
    "\n",
    "for i, co in enumerate(coord):\n",
    "  pts = np.array(co, np.int32)\n",
    "  pts = pts.reshape((-1,1,2))\n",
    "  if listi[i][1] == '0':\n",
    "    c = (0,255,255)\n",
    "  else:\n",
    "    c = (255, 0, 0)\n",
    "  cv2.polylines(img,[pts],True,c, 2)\n",
    "\n",
    "while(1):\n",
    "     \n",
    "    cv2.imshow('image', img)\n",
    "    if cv2.waitKey(20) & 0xFF == 27:\n",
    "        break\n",
    "cv2.destroyAllWindows()"
   ]
  }
 ],
 "metadata": {
  "kernelspec": {
   "display_name": "Python 3.9.12 ('base')",
   "language": "python",
   "name": "python3"
  },
  "language_info": {
   "codemirror_mode": {
    "name": "ipython",
    "version": 3
   },
   "file_extension": ".py",
   "mimetype": "text/x-python",
   "name": "python",
   "nbconvert_exporter": "python",
   "pygments_lexer": "ipython3",
   "version": "3.9.12"
  },
  "orig_nbformat": 4,
  "vscode": {
   "interpreter": {
    "hash": "dcd16d7b13e5ce7d17a14bd97745a1fbf6a910d77ba6344440a7724639e530a0"
   }
  }
 },
 "nbformat": 4,
 "nbformat_minor": 2
}
